{
 "cells": [
  {
   "cell_type": "code",
   "execution_count": null,
   "id": "7cd38cfb",
   "metadata": {},
   "outputs": [],
   "source": [
    "#part 1\n",
    "\n",
    "raw_string = open('Day6Input.txt').read()\n",
    "\n",
    "import numpy as np\n",
    "\n",
    "str_length = 4\n",
    "string_subsets = [string[i:i+str_length] for i in list(range(0,len(string)-str_length))]\n",
    "string_subsets = [np.array(len(set(substring)) == len(list(substring))) for substring in string_subsets]\n",
    "\n",
    "p1 = np.argmax(string_subsets)+str_length\n",
    "print('The answer to part 1 is',p1)"
   ]
  },
  {
   "cell_type": "code",
   "execution_count": null,
   "id": "c1971927",
   "metadata": {},
   "outputs": [],
   "source": [
    "#part 2\n",
    "\n",
    "str_length = 14\n",
    "string_subsets = [string[i:i+str_length] for i in list(range(0,len(string)-str_length))]\n",
    "string_subsets = [np.array(len(set(substring)) == len(list(substring))) for substring in string_subsets]\n",
    "\n",
    "p2 = np.argmax(string_subsets)+str_length\n",
    "print('The answer to part 2 is',p2)"
   ]
  },
  {
   "cell_type": "code",
   "execution_count": null,
   "id": "9d317fbe",
   "metadata": {},
   "outputs": [],
   "source": []
  }
 ],
 "metadata": {
  "kernelspec": {
   "display_name": "conda_python3",
   "language": "python",
   "name": "conda_python3"
  },
  "language_info": {
   "codemirror_mode": {
    "name": "ipython",
    "version": 3
   },
   "file_extension": ".py",
   "mimetype": "text/x-python",
   "name": "python",
   "nbconvert_exporter": "python",
   "pygments_lexer": "ipython3",
   "version": "3.6.13"
  }
 },
 "nbformat": 4,
 "nbformat_minor": 5
}
