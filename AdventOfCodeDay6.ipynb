{
 "cells": [
  {
   "cell_type": "code",
   "execution_count": null,
   "id": "023c3ce1",
   "metadata": {},
   "outputs": [],
   "source": [
    "#Part 1 and 2\n",
    "import numpy as np\n",
    "\n",
    "#Read in input file\n",
    "string = open('Day6Input.txt').read()\n",
    "\n",
    "#Function to subset string into plausible markers, then check whether it does have required length, then return position\n",
    "def find_diff_char(marker):\n",
    "    string_subsets = [list(set(string[i:i+marker])) for i in range(len(string)-marker)]\n",
    "    string_subset_lengths = [len(subset) == marker for subset in string_subsets]\n",
    "    return np.argmax(string_subset_lengths) + marker\n",
    "    \n",
    "p1 = find_diff_char(4)\n",
    "print('The answer to part 1 is',p1)\n",
    "\n",
    "p2 = find_diff_char(14)\n",
    "print('The answer to part 2 is',p2)"
   ]
  }
 ],
 "metadata": {
  "kernelspec": {
   "display_name": "conda_python3",
   "language": "python",
   "name": "conda_python3"
  },
  "language_info": {
   "codemirror_mode": {
    "name": "ipython",
    "version": 3
   },
   "file_extension": ".py",
   "mimetype": "text/x-python",
   "name": "python",
   "nbconvert_exporter": "python",
   "pygments_lexer": "ipython3",
   "version": "3.6.13"
  }
 },
 "nbformat": 4,
 "nbformat_minor": 5
}
