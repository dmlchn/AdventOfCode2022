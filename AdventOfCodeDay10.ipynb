{
 "cells": [
  {
   "cell_type": "code",
   "execution_count": null,
   "id": "190ab6d9",
   "metadata": {},
   "outputs": [],
   "source": [
    "#Part 1 and 2\n",
    "\n",
    "#Read in input file\n",
    "instructions = open('Day10Input.txt').read().splitlines()\n",
    "\n",
    "#Create modified input file where noops are added to make cycles easier to count\n",
    "mod_instructions = []\n",
    "\n",
    "for line in instructions:\n",
    "    if line.startswith('addx'):\n",
    "        mod_instructions.append('noop')\n",
    "    mod_instructions.append(line)\n",
    "\n",
    "#Initialise parameters    \n",
    "cycle = 0\n",
    "value = 1\n",
    "signal_sum = 0\n",
    "\n",
    "#Have for loop print out part 2 directly and tally up answer to part 1\n",
    "print('The answer to part 2 can be read here')\n",
    "\n",
    "for instruction in mod_instructions:\n",
    "    #Print instructions for part 2\n",
    "    if cycle % 40 in (value-1, value, value+1):\n",
    "        print(\"#\",end='')\n",
    "    else:\n",
    "        print(\".\",end='')\n",
    "    if cycle % 40 == 39:\n",
    "        print('\\n', end='')\n",
    "    #Counting up each cycle\n",
    "    cycle += 1\n",
    "    #Adding signal strength if in right cycle\n",
    "    if cycle in [20 + i*40 for i in range(6)]:\n",
    "        signal_sum = signal_sum +  cycle * value\n",
    "    #Increase register value\n",
    "    if instruction.startswith('addx'):\n",
    "        value += int(instruction[5:])\n",
    "        \n",
    "\n",
    "print('The answer to part 1 is', signal_sum)\n",
    "\n"
   ]
  }
 ],
 "metadata": {
  "kernelspec": {
   "display_name": "conda_python3",
   "language": "python",
   "name": "conda_python3"
  },
  "language_info": {
   "codemirror_mode": {
    "name": "ipython",
    "version": 3
   },
   "file_extension": ".py",
   "mimetype": "text/x-python",
   "name": "python",
   "nbconvert_exporter": "python",
   "pygments_lexer": "ipython3",
   "version": "3.6.13"
  }
 },
 "nbformat": 4,
 "nbformat_minor": 5
}
