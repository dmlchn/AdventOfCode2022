{
 "cells": [
  {
   "cell_type": "code",
   "execution_count": null,
   "id": "c7750cc1",
   "metadata": {},
   "outputs": [],
   "source": [
    "raw_sections = open('Day4Input.txt').read()\n",
    "\n",
    "sections = [sections for sections in raw_sections.splitlines()]\n",
    "sections = [sections.split(',') for sections in sections]\n",
    "\n",
    "sections_one = [section[0].split('-') for section in sections]\n",
    "sections_one = [[int(j) for j in section] for section in sections_one]\n",
    "sections_one = [list(range(section[0],section[1]+1)) for section in sections_one]\n",
    "\n",
    "sections_two = [section[1].split('-') for section in sections]\n",
    "sections_two = [[int(j) for j in section] for section in sections_two]\n",
    "sections_two = [list(range(section[0],section[1]+1)) for section in sections_two]\n",
    "\n",
    "sections = list(zip(sections_one,sections_two))\n",
    "\n",
    "sections_set = [((set(section[0]).issubset(section[1])) | set(section[1]).issubset(section[0])) for section in sections]\n",
    "sum(sections_set)"
   ]
  },
  {
   "cell_type": "code",
   "execution_count": null,
   "id": "4b34138a",
   "metadata": {},
   "outputs": [],
   "source": [
    "##part 2\n",
    "\n",
    "sections = [sections for sections in raw_sections.splitlines()]\n",
    "sections = [sections.split(',') for sections in sections]\n",
    "\n",
    "sections_one = [section[0].split('-') for section in sections]\n",
    "sections_one = [[int(j) for j in section] for section in sections_one]\n",
    "sections_one = [list(range(section[0],section[1]+1)) for section in sections_one]\n",
    "\n",
    "sections_two = [section[1].split('-') for section in sections]\n",
    "sections_two = [[int(j) for j in section] for section in sections_two]\n",
    "sections_two = [list(range(section[0],section[1]+1)) for section in sections_two]\n",
    "\n",
    "sections = list(zip(sections_one,sections_two))\n",
    "\n",
    "sections_set = [(len(set(section[0]).intersection(section[1])) != 0) for section in sections]\n",
    "sum(sections_set)"
   ]
  },
  {
   "cell_type": "code",
   "execution_count": null,
   "id": "af8d65da",
   "metadata": {},
   "outputs": [],
   "source": []
  }
 ],
 "metadata": {
  "kernelspec": {
   "display_name": "conda_python3",
   "language": "python",
   "name": "conda_python3"
  },
  "language_info": {
   "codemirror_mode": {
    "name": "ipython",
    "version": 3
   },
   "file_extension": ".py",
   "mimetype": "text/x-python",
   "name": "python",
   "nbconvert_exporter": "python",
   "pygments_lexer": "ipython3",
   "version": "3.6.13"
  }
 },
 "nbformat": 4,
 "nbformat_minor": 5
}
