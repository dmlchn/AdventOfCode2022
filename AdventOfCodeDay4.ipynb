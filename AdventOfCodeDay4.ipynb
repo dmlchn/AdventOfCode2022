{
 "cells": [
  {
   "cell_type": "code",
   "execution_count": null,
   "id": "939f7527",
   "metadata": {},
   "outputs": [],
   "source": [
    "#part 1\n",
    "\n",
    "#Read input file\n",
    "raw_sections = open('Day4Input.txt').read()\n",
    "\n",
    "#Create list of each section assignment\n",
    "sections = [sections.split(',') for sections in raw_sections.splitlines()]\n",
    "\n",
    "#Create numerical list of sections for the first assignment\n",
    "section_one = [section[0].split('-') for section in sections]\n",
    "section_one = [list(range(int(section[0]), int(section[1])+1)) for section in section_one]\n",
    "\n",
    "#Create numerical list of sections for the second assignment\n",
    "section_two = [section[1].split('-') for section in sections]\n",
    "section_two = [list(range(int(section[0]), int(section[1])+1)) for section in section_two]\n",
    "\n",
    "#Combine the lists of both assignments\n",
    "sections = list(zip(section_one,section_two))\n",
    "\n",
    "#Check whether one assignment is a subset of the other\n",
    "sections_set = [((set(section[0]).issubset(section[1])) | set(section[1]).issubset(section[0])) for section in sections]\n",
    "\n",
    "#Count the number of assignments where this is true\n",
    "p1 = sum(sections_set)\n",
    "\n",
    "print('The answer to part 1 is',p1)"
   ]
  },
  {
   "cell_type": "code",
   "execution_count": null,
   "id": "22acd2f8",
   "metadata": {},
   "outputs": [],
   "source": [
    "##part 2\n",
    "\n",
    "#Check whether one assignment overlap at all with the other\n",
    "sections_set = [(len(set(section[0]).intersection(section[1])) != 0) for section in sections]\n",
    "\n",
    "#Count the number of assignments where this is true\n",
    "p2 = sum(sections_set)\n",
    "\n",
    "print('The answer to part 2 is',p2)"
   ]
  }
 ],
 "metadata": {
  "kernelspec": {
   "display_name": "conda_python3",
   "language": "python",
   "name": "conda_python3"
  },
  "language_info": {
   "codemirror_mode": {
    "name": "ipython",
    "version": 3
   },
   "file_extension": ".py",
   "mimetype": "text/x-python",
   "name": "python",
   "nbconvert_exporter": "python",
   "pygments_lexer": "ipython3",
   "version": "3.6.13"
  }
 },
 "nbformat": 4,
 "nbformat_minor": 5
}
