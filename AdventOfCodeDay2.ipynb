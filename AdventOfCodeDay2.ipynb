{
 "cells": [
  {
   "cell_type": "code",
   "execution_count": null,
   "id": "4f130043",
   "metadata": {},
   "outputs": [],
   "source": [
    "guide = open('Day2Input.txt').read()\n",
    "guide_trans = [round.split() for round in guide.splitlines()]\n",
    "guide_trans = [[x.replace('X','A').replace('Y','B').replace('Z','C') for x in round] for round in guide_trans]"
   ]
  },
  {
   "cell_type": "code",
   "execution_count": null,
   "id": "02ec3405",
   "metadata": {},
   "outputs": [],
   "source": [
    "import numpy as np\n",
    "import pandas as pd\n",
    "\n",
    "df_guide = pd.DataFrame(guide_trans)\n",
    "\n",
    "df_guide['shape_score'] = 1\n",
    "df_guide.loc[df_guide[1] == 'B', 'shape_score'] = 2\n",
    "df_guide.loc[df_guide[1] == 'C', 'shape_score'] = 3\n",
    "\n",
    "df_guide['win_score'] = np.where(df_guide[0] == df_guide[1], 3, 0)\n",
    "\n",
    "df_guide.loc[(df_guide[1] == 'A') & (df_guide[0] == 'C'),'win_score'] = 6\n",
    "df_guide.loc[(df_guide[1] == 'B') & (df_guide[0] == 'A'),'win_score'] = 6\n",
    "df_guide.loc[(df_guide[1] == 'C') & (df_guide[0] == 'B'),'win_score'] = 6\n",
    "    \n",
    "df_guide['total_score'] = df_guide['shape_score'] + df_guide ['win_score']\n",
    "\n",
    "p1 = sum(df_guide.total_score)\n",
    "\n",
    "print('The answer to part 1 is',p1)"
   ]
  },
  {
   "cell_type": "code",
   "execution_count": null,
   "id": "5d808646",
   "metadata": {},
   "outputs": [],
   "source": [
    "## second part \n",
    "guide_mintrans = [round.split() for round in guide.splitlines()]\n",
    "\n",
    "guide_df =  pd.DataFrame(guide_mintrans)\n",
    "\n",
    "guide_df['my_play'] = np.where(guide_df[1] == 'Y', guide_df[0], 'B')\n",
    "\n",
    "guide_df.loc[(guide_df[1] == 'X') & (guide_df[0] == 'A'),'my_play'] = 'C'\n",
    "guide_df.loc[(guide_df[1] == 'X') & (guide_df[0] == 'B'),'my_play'] = 'A'\n",
    "guide_df.loc[(guide_df[1] == 'Z') & (guide_df[0] == 'B'),'my_play'] = 'C'\n",
    "guide_df.loc[(guide_df[1] == 'Z') & (guide_df[0] == 'C'),'my_play'] = 'A'\n",
    "\n",
    "guide_df['shape_score'] = 1\n",
    "guide_df.loc[guide_df['my_play'] == 'B', 'shape_score'] = 2\n",
    "guide_df.loc[guide_df['my_play'] == 'C', 'shape_score'] = 3\n",
    "\n",
    "guide_df['win_score'] = 3\n",
    "guide_df.loc[guide_df[1] == 'X', 'win_score'] = 0\n",
    "guide_df.loc[guide_df[1] == 'Z', 'win_score'] = 6\n",
    "\n",
    "guide_df['total_score'] = guide_df['shape_score'] + guide_df['win_score']\n",
    "\n",
    "\n",
    "p2 = sum(guide_df.total_score)\n",
    "\n",
    "print('The answer to part 2 is',p2)\n",
    "\n"
   ]
  }
 ],
 "metadata": {
  "kernelspec": {
   "display_name": "conda_python3",
   "language": "python",
   "name": "conda_python3"
  },
  "language_info": {
   "codemirror_mode": {
    "name": "ipython",
    "version": 3
   },
   "file_extension": ".py",
   "mimetype": "text/x-python",
   "name": "python",
   "nbconvert_exporter": "python",
   "pygments_lexer": "ipython3",
   "version": "3.6.13"
  }
 },
 "nbformat": 4,
 "nbformat_minor": 5
}
