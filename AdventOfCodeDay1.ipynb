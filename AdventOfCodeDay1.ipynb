{
 "cells": [
  {
   "cell_type": "code",
   "execution_count": null,
   "id": "e2b06b68",
   "metadata": {},
   "outputs": [],
   "source": [
    "#part 1\n",
    "\n",
    "#Read input file\n",
    "calories = open('Day1Input.txt').read()\n",
    "\n",
    "#Create dict with the list of calories for each elf\n",
    "calories_by_elf = {x: list(map(int,y.split('\\n'))) for x, y in enumerate(calories.split('\\n\\n'),start=1)}\n",
    "\n",
    "#Calculate total amount of calories per elf\n",
    "total_calories_by_elf = {k: sum(v) for k,v in calories_by_elf.items()}\n",
    "\n",
    "#Calculate the biggest calorie amount an individual elf has\n",
    "p1 = max(total_calories_by_elf.values())\n",
    "\n",
    "print('The answer to part 1 is',p1)"
   ]
  },
  {
   "cell_type": "code",
   "execution_count": null,
   "id": "6564241f",
   "metadata": {},
   "outputs": [],
   "source": [
    "#part 2\n",
    "#Select the 3 biggest total calorie amounts any elf has\n",
    "top3_total_calories_by_elf = sorted(total_calories_by_elf.values(), reverse=True)[:3]\n",
    "\n",
    "#Sum the 3 biggest total calorie amount\n",
    "p2 = sum(top3_total_calories_by_elf)\n",
    "\n",
    "print('The answer to part 2 is',p2)\n"
   ]
  },
  {
   "cell_type": "code",
   "execution_count": null,
   "id": "d2525e0f",
   "metadata": {},
   "outputs": [],
   "source": []
  }
 ],
 "metadata": {
  "kernelspec": {
   "display_name": "conda_python3",
   "language": "python",
   "name": "conda_python3"
  },
  "language_info": {
   "codemirror_mode": {
    "name": "ipython",
    "version": 3
   },
   "file_extension": ".py",
   "mimetype": "text/x-python",
   "name": "python",
   "nbconvert_exporter": "python",
   "pygments_lexer": "ipython3",
   "version": "3.6.13"
  }
 },
 "nbformat": 4,
 "nbformat_minor": 5
}
