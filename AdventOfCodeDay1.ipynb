{
 "cells": [
  {
   "cell_type": "code",
   "execution_count": null,
   "id": "2930bcdf",
   "metadata": {},
   "outputs": [],
   "source": [
    "#part 1\n",
    "calories = open('Day1Input.txt').read()\n",
    "calories_dict = dict((x, y.split('\\n')) for x, y in list(enumerate(calories.split('\\n\\n'),start=1)))\n",
    "calories_dict_int = {k:list(map(int,v)) for k,v in calories_dict.items()}\n",
    "calories_per_elf = {k: sum(calories_dict_int[k]) for k in calories_dict_int.keys()}\n",
    "p1 = max(calories_per_elf.items(), key=lambda k: k[1])[1]\n",
    "\n",
    "print('The answer to part 1 is',p1)"
   ]
  },
  {
   "cell_type": "code",
   "execution_count": null,
   "id": "c7d82915",
   "metadata": {},
   "outputs": [],
   "source": [
    "#part 2\n",
    "desc_calories_per_elf = sorted(calories_per_elf.items(), key=lambda k: k[1], reverse=True)\n",
    "top3_calories_per_elf=[tuple[1] for tuple in desc_calories_per_elf[:3]]\n",
    "p2 = sum(top3_calories_per_elf)\n",
    "\n",
    "print('The answer to part 2 is',p2)\n"
   ]
  }
 ],
 "metadata": {
  "kernelspec": {
   "display_name": "conda_python3",
   "language": "python",
   "name": "conda_python3"
  },
  "language_info": {
   "codemirror_mode": {
    "name": "ipython",
    "version": 3
   },
   "file_extension": ".py",
   "mimetype": "text/x-python",
   "name": "python",
   "nbconvert_exporter": "python",
   "pygments_lexer": "ipython3",
   "version": "3.6.13"
  }
 },
 "nbformat": 4,
 "nbformat_minor": 5
}
