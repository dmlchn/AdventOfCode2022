{
 "cells": [
  {
   "cell_type": "code",
   "execution_count": null,
   "id": "f00c9c95",
   "metadata": {},
   "outputs": [],
   "source": [
    "#part 1\n",
    "#parsing given starting stacks into dictionary with individual stacks as lists\n",
    "\n",
    "\n",
    "raw_input = open('Day5Input.txt').read().splitlines()\n",
    "empty_line = raw_input.index('')\n",
    "\n",
    "raw_stack = raw_input[:empty_line]\n",
    "raw_move = raw_input[empty_line+1:]\n",
    "\n",
    "row_stack = [[raw_row_stack[row][i+1] for i in range(0, len(raw_row_stack[row]), 4)] for row in range(0,len(raw_stack))]\n",
    "\n",
    "stack_dict = dict.fromkeys([int(i) for i in row_stack[-1]])\n",
    "\n",
    "for j in range(0,len(stack_dict)):\n",
    "    stack_dict[j+1]=[row_stack[-k][j] for k in range(2,len(row_stack)+1)]\n",
    "    while stack_dict[j+1][-1] == ' ':\n",
    "        stack_dict[j+1].pop()\n",
    "\n",
    "#parsing movement instructions into list\n",
    "move = [row.replace('move ','').replace(' from ',',').replace(' to ',',').split(',') for row in raw_move]\n",
    "move = [[int(row[k]) for k in range(0,len(row))] for row in move]        \n",
    "\n",
    "#operating the crane\n",
    "for row in move:\n",
    "    for x in range(row[0]):\n",
    "        stack_dict[row[2]].append(stack_dict[row[1]].pop())\n",
    "        \n",
    "result_stack_dict = stack_dict\n",
    "\n",
    "#turning top items in each stack into message\n",
    "res = ''       \n",
    "for j in range(0,len(result_stack_dict)):\n",
    "    res = res + result_stack_dict[j+1].pop()\n",
    "    \n",
    "p1 = res\n",
    "\n",
    "print('The answer to part 1 is',p1)\n"
   ]
  },
  {
   "cell_type": "code",
   "execution_count": null,
   "id": "1b7f1a88",
   "metadata": {},
   "outputs": [],
   "source": [
    "#part 2 \n",
    "\n",
    "#rebuilding the stack\n",
    "stack_dict = dict.fromkeys([int(i) for i in row_stack[-1]])\n",
    "\n",
    "for j in range(0,len(stack_dict)):\n",
    "    stack_dict[j+1]=[row_stack[-k][j] for k in range(2,len(row_stack)+1)]\n",
    "    while stack_dict[j+1][-1] == ' ':\n",
    "        stack_dict[j+1].pop()\n",
    "\n",
    "#operating the crane\n",
    "for row in move:\n",
    "    stack_dict[row[2]] = stack_dict[row[2]] + stack_dict[row[1]][len(stack_dict[row[1]])-row[0]:len(stack_dict[row[1]])]\n",
    "    stack_dict[row[1]] = stack_dict[row[1]][0:len(stack_dict[row[1]])-row[0]]\n",
    "    \n",
    "result_stack_dict = stack_dict\n",
    "\n",
    "#turning top items in each stack into message\n",
    "res = ''       \n",
    "for j in range(0,len(result_stack_dict)):\n",
    "    res = res + result_stack_dict[j+1].pop()\n",
    "    \n",
    "p2 = res\n",
    "\n",
    "print('The answer to part 2 is',p2)"
   ]
  }
 ],
 "metadata": {
  "kernelspec": {
   "display_name": "conda_python3",
   "language": "python",
   "name": "conda_python3"
  },
  "language_info": {
   "codemirror_mode": {
    "name": "ipython",
    "version": 3
   },
   "file_extension": ".py",
   "mimetype": "text/x-python",
   "name": "python",
   "nbconvert_exporter": "python",
   "pygments_lexer": "ipython3",
   "version": "3.6.13"
  }
 },
 "nbformat": 4,
 "nbformat_minor": 5
}
