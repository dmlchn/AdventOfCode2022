{
 "cells": [
  {
   "cell_type": "code",
   "execution_count": null,
   "id": "4b4f958f",
   "metadata": {},
   "outputs": [],
   "source": [
    "grid=open('Day8Input.txt').read().split()\n",
    "grid= [[k for k in line] for line in grid]"
   ]
  },
  {
   "cell_type": "code",
   "execution_count": null,
   "id": "615412e2",
   "metadata": {},
   "outputs": [],
   "source": [
    "#part 1\n",
    "invisible_trees = 0 \n",
    "for row in range(1,len(grid)-1):\n",
    "    for column in range(1,len(grid[row])-1):\n",
    "        if any(grid[row][column] <= element for element in grid[row][:column]):\n",
    "            if any(grid[row][column] <= element for element in grid[row][column+1:]):\n",
    "                if any(grid[row][column] <= line[column] for line in grid[:row]):\n",
    "                    if any(grid[row][column] <= line[column] for line in grid[row+1:]):\n",
    "                        invisible_trees = invisible_trees + 1\n",
    "                        \n",
    "trees = sum([len(treeline) for treeline in grid])\n",
    "                        \n",
    "p1 = trees - invisible_trees       \n",
    "\n",
    "print('The answer to Part 1 is',p1)\n"
   ]
  },
  {
   "cell_type": "code",
   "execution_count": null,
   "id": "4627255b",
   "metadata": {},
   "outputs": [],
   "source": [
    "#part 2\n",
    "\n",
    "#we don't need to check the edge trees as their scenic score multiplied will be 0\n",
    "\n",
    "from functools import reduce\n",
    "\n",
    "scenic_scores = []\n",
    "for row in range(1,len(grid)-1):\n",
    "    for col in range(1,len(grid[row])-1):\n",
    "        viewing_distance = [0,0,0,0]\n",
    "        for tree in reversed(grid[row][:col]):  \n",
    "            viewing_distance[0] = viewing_distance[0] + 1\n",
    "            if grid[row][col] <= tree:\n",
    "                break\n",
    "        for tree in grid[row][col+1:]:  \n",
    "            viewing_distance[1] = viewing_distance[1] + 1\n",
    "            if grid[row][col] <= tree:\n",
    "                break\n",
    "        for tree in reversed([line[col] for line in grid[:row]]):\n",
    "            viewing_distance[2] = viewing_distance[2] + 1\n",
    "            if grid[row][col] <= tree:\n",
    "                break\n",
    "        for tree in [line[col] for line in grid[row+1:]]:\n",
    "            viewing_distance[3] = viewing_distance[3] + 1\n",
    "            if grid[row][col] <= tree:\n",
    "                break\n",
    "        scenic_score = reduce((lambda x, y: x * y),viewing_distance)\n",
    "        scenic_scores.append(scenic_score)\n",
    "\n",
    "p2 = max(scenic_scores)\n",
    "\n",
    "print(\"The answer to Part 2 is\", p2)"
   ]
  }
 ],
 "metadata": {
  "kernelspec": {
   "display_name": "conda_python3",
   "language": "python",
   "name": "conda_python3"
  },
  "language_info": {
   "codemirror_mode": {
    "name": "ipython",
    "version": 3
   },
   "file_extension": ".py",
   "mimetype": "text/x-python",
   "name": "python",
   "nbconvert_exporter": "python",
   "pygments_lexer": "ipython3",
   "version": "3.6.13"
  }
 },
 "nbformat": 4,
 "nbformat_minor": 5
}
