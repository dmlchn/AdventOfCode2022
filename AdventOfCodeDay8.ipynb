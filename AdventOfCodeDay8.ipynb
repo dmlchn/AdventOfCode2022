{
 "cells": [
  {
   "cell_type": "code",
   "execution_count": null,
   "id": "26d2cb98",
   "metadata": {},
   "outputs": [],
   "source": []
  },
  {
   "cell_type": "code",
   "execution_count": null,
   "id": "d711d598",
   "metadata": {},
   "outputs": [],
   "source": [
    "#part 1\n",
    "\n",
    "#Read in input file\n",
    "grid=open('Day8Input.txt').read().split()\n",
    "grid= [[k for k in line] for line in grid]\n",
    "\n",
    "\n",
    "invisible_trees = 0 \n",
    "\n",
    "#Check whether each tree is invisible by verifying that there is at least as a big a tree in the adjacent trees for all sides\n",
    "for row in range(1,len(grid)-1):\n",
    "    for column in range(1,len(grid[row])-1):\n",
    "        tree = grid[row][column]\n",
    "        if any(tree <= x for x in grid[row][:column]) and \\\n",
    "           any(tree <= x for x in grid[row][column+1:]) and \\\n",
    "           any(tree <= line[column] for line in grid[:row]) and \\\n",
    "           any(tree <= line[column] for line in grid[row+1:]):\n",
    "                invisible_trees = invisible_trees + 1\n",
    "\n",
    "#Counting up all trees\n",
    "trees = sum([len(treeline) for treeline in grid])\n",
    "\n",
    "#Counting visible trees by subtracting invisible trees from all trees\n",
    "p1 = trees - invisible_trees       \n",
    "\n",
    "print('The answer to Part 1 is',p1)"
   ]
  },
  {
   "cell_type": "code",
   "execution_count": null,
   "id": "603f037b",
   "metadata": {},
   "outputs": [],
   "source": [
    "#part 2\n",
    "\n",
    "#Define function to count how far each tree can see\n",
    "def calculate_viewing_distance(view, tree):\n",
    "    viewing_distance = 0\n",
    "    for adjacent_tree in view:\n",
    "        viewing_distance += 1\n",
    "        if tree <= adjacent_tree:\n",
    "            break\n",
    "    return viewing_distance\n",
    "\n",
    "scenic_scores = []\n",
    "\n",
    "#For each tree calculate viewing distance in each direction, multiply together to scenic score for each tree\n",
    "#We don't need to check the edge trees as their scenic score multiplied will be 0\n",
    "for row in range(1,len(grid)-1):\n",
    "    for col in range(1,len(grid[row])-1):\n",
    "        tree = grid[row][col] \n",
    "        v1 = calculate_viewing_distance(reversed(grid[row][:col]), tree) \n",
    "        v2 = calculate_viewing_distance(grid[row][col+1:], tree)  \n",
    "        v3 = calculate_viewing_distance(reversed([line[col] for line in grid[:row]]), tree)\n",
    "        v4 = calculate_viewing_distance([line[col] for line in grid[row+1:]], tree)  \n",
    "        scenic_score = v1*v2*v3*v4\n",
    "        scenic_scores.append(scenic_score)\n",
    "\n",
    "        \n",
    "#Find biggest scenic score among all trees\n",
    "p2 = max(scenic_scores)\n",
    "\n",
    "print(\"The answer to Part 2 is\", p2)"
   ]
  }
 ],
 "metadata": {
  "kernelspec": {
   "display_name": "conda_python3",
   "language": "python",
   "name": "conda_python3"
  },
  "language_info": {
   "codemirror_mode": {
    "name": "ipython",
    "version": 3
   },
   "file_extension": ".py",
   "mimetype": "text/x-python",
   "name": "python",
   "nbconvert_exporter": "python",
   "pygments_lexer": "ipython3",
   "version": "3.6.13"
  }
 },
 "nbformat": 4,
 "nbformat_minor": 5
}
