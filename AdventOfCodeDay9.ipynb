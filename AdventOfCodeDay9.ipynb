{
 "cells": [
  {
   "cell_type": "code",
   "execution_count": null,
   "id": "7b52229e",
   "metadata": {},
   "outputs": [],
   "source": [
    "#Part 1 and 2\n",
    "\n",
    "import numpy as np\n",
    "import math\n",
    "\n",
    "#Loads motions in and turns them into one string of pure directions ['R','R','U']\n",
    "motions = open('Day9Input.txt').read().split('\\n')\n",
    "motions = [motion.split() for motion in motions]\n",
    "motions = sum([list(direction * int(distance)) for [direction,distance] in motions], [])\n",
    "\n",
    "#Function to show where each tail is in position after moving a single step\n",
    "def single_step_move(direction, positions):\n",
    "    \n",
    "    #Specify how each direction moves\n",
    "    directions = {\n",
    "    \"U\": np.array([0, 1]),\n",
    "    \"D\": np.array([0, -1]),\n",
    "    \"L\": np.array([-1, 0]),\n",
    "    \"R\": np.array([1, 0])\n",
    "    }\n",
    "    \n",
    "    #Move head in the specified direction\n",
    "    positions[0] = positions[0] + directions[direction]  \n",
    "\n",
    "\n",
    "    #Only adjust position of each following knot if preceding one too far away\n",
    "    for i in range(1,len(positions)):\n",
    "        if np.linalg.norm(positions[i-1] - positions[i]) > math.sqrt(2):\n",
    "            if np.linalg.norm(positions[i-1] - positions[i]) == 2:\n",
    "                positions[i] = positions[i] + (positions[i-1] - positions[i])//2\n",
    "            else:\n",
    "                positions[i] = positions[i] + np.sign(positions[i-1] - positions[i])\n",
    "            \n",
    "    return(positions)  \n",
    "\n",
    "#Function which does all the moves and keeps track of each tail position, counts up the unique ones\n",
    "def find_unique_tail_pos(tail_length):\n",
    "    positions = [np.array([0, 0]) for i in range(0,tail_length)]\n",
    "    visited_tail = []\n",
    "    for motion in motions:\n",
    "        positions = single_step_move(motion,positions)\n",
    "        visited_tail.append(positions[-1])\n",
    "    unique_tail_pos = np.unique(visited_tail,axis=0)\n",
    "    return int(unique_tail_pos.size/2)\n",
    "\n",
    "p1 = find_unique_tail_pos(2)\n",
    "print('The answer to part 1 is',p1)\n",
    "p2 = find_unique_tail_pos(10)\n",
    "print('The answer to part 2 is',p2)\n"
   ]
  }
 ],
 "metadata": {
  "kernelspec": {
   "display_name": "conda_python3",
   "language": "python",
   "name": "conda_python3"
  },
  "language_info": {
   "codemirror_mode": {
    "name": "ipython",
    "version": 3
   },
   "file_extension": ".py",
   "mimetype": "text/x-python",
   "name": "python",
   "nbconvert_exporter": "python",
   "pygments_lexer": "ipython3",
   "version": "3.6.13"
  }
 },
 "nbformat": 4,
 "nbformat_minor": 5
}
