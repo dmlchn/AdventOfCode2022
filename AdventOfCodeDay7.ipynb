{
 "cells": [
  {
   "cell_type": "code",
   "execution_count": null,
   "id": "d844c511",
   "metadata": {},
   "outputs": [],
   "source": [
    "#part 1\n",
    "\n",
    "#Read in input file\n",
    "raw_string = open('Day7Input.txt').read()\n",
    "\n",
    "#Initialise needed data types\n",
    "path = []\n",
    "files = {}\n",
    "folders = set()\n",
    "\n",
    "#Go through commands, save path name, save size of each file, add to files dict and to folders set\n",
    "for line in raw_string.splitlines():\n",
    "    if line.startswith(\"$\"):\n",
    "        if line.startswith(\"$ cd\"):\n",
    "            d = line[5:]\n",
    "            if d == \"/\":\n",
    "                path = ['/']\n",
    "            elif d == \"..\":\n",
    "                path.pop(-1)\n",
    "            else:\n",
    "                path.append(d + '/')\n",
    "    else:\n",
    "        size, name = line.split(\" \")\n",
    "        if size == \"dir\":\n",
    "            continue\n",
    "        files[\"\".join(path + [name])] = int(size)\n",
    "    folders.add(\"\".join(path))\n",
    "\n",
    "#Count up size of each folder\n",
    "folder_dict = {folder: 0 for folder in folders}\n",
    "for folder in folders:\n",
    "    for file in files:\n",
    "        if file.startswith(folder):\n",
    "            folder_dict[folder] += files[file]\n",
    "\n",
    "#Sum all folders which are smaller than requested\n",
    "p1 = sum(value for value in folder_dict.values() if value <= 100000)\n",
    "print('The answer to part 1 is',p1)"
   ]
  },
  {
   "cell_type": "code",
   "execution_count": null,
   "id": "9345df1f",
   "metadata": {},
   "outputs": [],
   "source": [
    "#part 2\n",
    "\n",
    "#Find out how much space is left\n",
    "leftover_space = 70000000 - folder_dict['/']\n",
    "size_to_delete = 30000000-leftover_space\n",
    "\n",
    "#Directory to delete which is the smallest which frees up enough space\n",
    "p2 = min(value for value in folder_dict.values() if value >= size_to_delete)\n",
    "print('The answer to part 2 is',p2)"
   ]
  }
 ],
 "metadata": {
  "kernelspec": {
   "display_name": "conda_python3",
   "language": "python",
   "name": "conda_python3"
  },
  "language_info": {
   "codemirror_mode": {
    "name": "ipython",
    "version": 3
   },
   "file_extension": ".py",
   "mimetype": "text/x-python",
   "name": "python",
   "nbconvert_exporter": "python",
   "pygments_lexer": "ipython3",
   "version": "3.6.13"
  }
 },
 "nbformat": 4,
 "nbformat_minor": 5
}
