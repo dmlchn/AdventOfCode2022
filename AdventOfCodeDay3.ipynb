{
 "cells": [
  {
   "cell_type": "code",
   "execution_count": null,
   "id": "c8fef57a",
   "metadata": {},
   "outputs": [],
   "source": [
    "#part 1\n",
    "\n",
    "import pandas as pd\n",
    "import string\n",
    "\n",
    "#Read input file in\n",
    "raw_rucksack = open('Day3Input.txt').read()\n",
    "\n",
    "#Create list of rucksacks\n",
    "rucksacks = [rucksack for rucksack in raw_rucksack.splitlines()]\n",
    "\n",
    "#Split each rucksack into two bags in the middle\n",
    "bag_one = [rucksack[:(int(len(rucksack)/2))] for rucksack in rucksacks]\n",
    "bag_two = [rucksack[(int(len(rucksack)/2)):] for rucksack in rucksacks]\n",
    "\n",
    "#Find which character both bags have in common\n",
    "common_characters = [''.join(set(bag_one[i]).intersection(bag_two[i])) for i in range(len(rucksacks))]\n",
    "\n",
    "#Create a priority list for each letter in the alphabet\n",
    "alphabet = dict(zip(list(string.ascii_letters),list(range(1,53))))\n",
    "\n",
    "#Find the priority for each common character for the bags in each rucksack\n",
    "priorities = [alphabet[item] for item in common_characters]\n",
    "\n",
    "#Sum the priorities of all common characters of all rucksacks\n",
    "p1 = sum(priorities)\n",
    "\n",
    "print('The answer to part 1 is',p1)\n"
   ]
  },
  {
   "cell_type": "code",
   "execution_count": null,
   "id": "e8982924",
   "metadata": {},
   "outputs": [],
   "source": [
    "##part 2 \n",
    "\n",
    "#Group three rucksacks together each\n",
    "rucksacks_by_three = [rucksacks[x:x+3] for x in range(0,len(rucksacks),3)]\n",
    "\n",
    "#Find the common character of these 3 rucksacks\n",
    "common_characters_by_three = [''.join(set(rucksacks_by_three[i][0]).intersection(rucksacks_by_three[i][1]).intersection(rucksacks_by_three[i][2])) for i in range(len(rucksacks_by_three))]\n",
    "\n",
    "#Find the priority for each of these common character\n",
    "priorities_by_three = [alphabet[item] for item in common_characters_by_three]\n",
    "\n",
    "#Sum the priorities of all common characters\n",
    "p2 = sum(priorities_by_three)\n",
    "\n",
    "print('The answer to part 2 is',p2)"
   ]
  }
 ],
 "metadata": {
  "kernelspec": {
   "display_name": "conda_python3",
   "language": "python",
   "name": "conda_python3"
  },
  "language_info": {
   "codemirror_mode": {
    "name": "ipython",
    "version": 3
   },
   "file_extension": ".py",
   "mimetype": "text/x-python",
   "name": "python",
   "nbconvert_exporter": "python",
   "pygments_lexer": "ipython3",
   "version": "3.6.13"
  }
 },
 "nbformat": 4,
 "nbformat_minor": 5
}
