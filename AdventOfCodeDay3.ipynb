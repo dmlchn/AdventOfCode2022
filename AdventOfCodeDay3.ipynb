{
 "cells": [
  {
   "cell_type": "code",
   "execution_count": null,
   "id": "32651b7e",
   "metadata": {},
   "outputs": [],
   "source": [
    "import pandas as pd\n",
    "import string"
   ]
  },
  {
   "cell_type": "code",
   "execution_count": null,
   "id": "9ec62ad8",
   "metadata": {},
   "outputs": [],
   "source": [
    "raw_rucksack = open('Day3Input.txt').read()\n",
    "\n",
    "rucksacks = [rucksack for rucksack in raw_rucksack.splitlines()]\n",
    "\n",
    "bag_one = [rucksack[:(int(len(rucksack)/2))] for rucksack in rucksacks]\n",
    "bag_two = [rucksack[(int(len(rucksack)/2)):] for rucksack in rucksacks]\n",
    "\n",
    "common_characters = [''.join(set(bag_one[i]).intersection(bag_two[i])) for i in range(len(rucksacks))]\n",
    "\n",
    "alphabet = dict(zip(list(string.ascii_letters),list(range(1,53))))\n",
    "\n",
    "priorities = [alphabet[item] for item in common_characters]\n",
    "\n",
    "p1 = sum(priorities)\n",
    "\n",
    "print('The answer to part 1 is',p1)\n"
   ]
  },
  {
   "cell_type": "code",
   "execution_count": null,
   "id": "a3399d1e",
   "metadata": {},
   "outputs": [],
   "source": [
    "##part 2 \n",
    "\n",
    "rucksacks_by_three = [rucksacks[x:x+3] for x in range(0,len(rucksacks),3)]\n",
    "common_characters_by_three = [''.join(set(rucksacks_by_three[i][0]).intersection(rucksacks_by_three[i][1]).intersection(rucksacks_by_three[i][2])) for i in range(len(rucksacks_by_three))]\n",
    "\n",
    "priorities_by_three = [alphabet[item] for item in common_characters_by_three]\n",
    "p2 = sum(priorities_by_three)\n",
    "\n",
    "print('The answer to part 2 is',p2)"
   ]
  }
 ],
 "metadata": {
  "kernelspec": {
   "display_name": "conda_python3",
   "language": "python",
   "name": "conda_python3"
  },
  "language_info": {
   "codemirror_mode": {
    "name": "ipython",
    "version": 3
   },
   "file_extension": ".py",
   "mimetype": "text/x-python",
   "name": "python",
   "nbconvert_exporter": "python",
   "pygments_lexer": "ipython3",
   "version": "3.6.13"
  }
 },
 "nbformat": 4,
 "nbformat_minor": 5
}
